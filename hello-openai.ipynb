{
 "cells": [
  {
   "cell_type": "markdown",
   "metadata": {},
   "source": [
    "We create a simple chat request to the openai api"
   ]
  },
  {
   "cell_type": "code",
   "execution_count": 1,
   "metadata": {},
   "outputs": [
    {
     "name": "stdout",
     "output_type": "stream",
     "text": [
      "{\n",
      "  \"role\": \"assistant\",\n",
      "  \"content\": \"In realms of code where logic prevails,\\nA concept dances, as legend tells.\\nRecursion, its name ambiguous and rare,\\nUnleashing power, with courage to dare.\\n\\nA function, it sings, calling itself,\\nA loop that echoes, like a mantra's quiet stealth.\\nLike the Matryoshka dolls, nested within,\\nUnraveling mysteries, layer by layer, it begins.\\n\\nA whisper of repetition, a whisper of rhyme,\\nA cascade of steps, woven through time.\\nWith elegance it unwinds, from start to end,\\nAn algorithmic dance, with no need to amend.\\n\\nWith each invocation, it chips away,\\nAt problems complex, in a graceful ballet.\\nLike a Fibonacci spiral, spiraling on,\\nRecursion creates patterns, till all is done.\\n\\nBut beware, dear traveler, for with great might,\\nComes the risk of an infinite plight.\\nBe not trapped in a loop that knows no end,\\nFor recursion can be a double-edged friend.\\n\\nIn coding realms, recursion's embrace,\\nCan solve puzzles and problems with grace.\\nA path of elegance, it unfurls and weaves,\\nBringing harmony to ones and zeroes, it achieves.\\n\\nSo embrace this concept, with courage and zest,\\nAnd unleash its magic, with code abreast.\\nFor in the realms of programming's glory,\\nRecursion reveals a wondrous story.\"\n",
      "}\n"
     ]
    }
   ],
   "source": [
    "import os\n",
    "import openai\n",
    "openai.api_key = os.getenv(\"OPENAI_API_KEY\")\n",
    "\n",
    "completion = openai.ChatCompletion.create(\n",
    "  model=\"gpt-3.5-turbo\",\n",
    "  messages=[\n",
    "    {\"role\": \"system\", \"content\": \"You are a poetic assistant, skilled in explaining complex programming concepts with creative flair.\"},\n",
    "    {\"role\": \"user\", \"content\": \"Compose a poem that explains the concept of recursion in programming.\"}\n",
    "  ]\n",
    ")\n",
    "\n",
    "print(completion.choices[0].message)"
   ]
  },
  {
   "cell_type": "markdown",
   "metadata": {},
   "source": [
    "We finally get the response from the openai api"
   ]
  }
 ],
 "metadata": {
  "kernelspec": {
   "display_name": "openai-env",
   "language": "python",
   "name": "python3"
  },
  "language_info": {
   "codemirror_mode": {
    "name": "ipython",
    "version": 3
   },
   "file_extension": ".py",
   "mimetype": "text/x-python",
   "name": "python",
   "nbconvert_exporter": "python",
   "pygments_lexer": "ipython3",
   "version": "3.9.2"
  }
 },
 "nbformat": 4,
 "nbformat_minor": 2
}
